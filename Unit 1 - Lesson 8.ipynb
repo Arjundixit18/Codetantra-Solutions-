{
 "cells": [
  {
   "cell_type": "code",
   "execution_count": null,
   "id": "e83a1ca9",
   "metadata": {},
   "outputs": [],
   "source": [
    "\"\"\" Input and Output Statements \"\"\" \n",
    "\"\"\" Question 1 \"\"\"\n",
    "place = input(\"Enter your favourite place: \")\n",
    "print(\"My favourite place is:\",place)\n",
    "# Print your favourite place"
   ]
  },
  {
   "cell_type": "code",
   "execution_count": null,
   "id": "feefbcbd",
   "metadata": {},
   "outputs": [],
   "source": [
    "\"\"\" Question 2 \"\"\"\n",
    "lang = input(\"Enter Language: \")\n",
    "print(\"My Favourite Language is\",lang)"
   ]
  },
  {
   "cell_type": "code",
   "execution_count": null,
   "id": "747be0ea",
   "metadata": {},
   "outputs": [],
   "source": [
    "\"\"\" Question 3 \"\"\"\n",
    "name = \"Pretty\"\n",
    "branch = \"CSE\"\n",
    "score = \"10\"\n",
    "print(\"Hello\", name,\"your branch is\", branch,\"and your score is\", score)"
   ]
  },
  {
   "cell_type": "code",
   "execution_count": null,
   "id": "b9bb6c8f",
   "metadata": {},
   "outputs": [],
   "source": [
    "\"\"\" Question 4 \n",
    "a = int(input(\"a: \"))\n",
    "b = int(input(\"b: \"))\n",
    "print(\"The value of a = {}, b = {} \".format(a,b))\n",
    "print(\"The value of a = {1}, b = {0} \".format(a,b))# Take an integer input from the user and store it in variable \"a\"\n",
    "\n",
    "# Take an integer input from the user and store it in variable \"b\"\n",
    "\n",
    "# print \"a\" value at 0 index and \"b\" value at 1 index\n",
    "\n",
    "# print by changing the index postions of \"a\" and \"b\" and observe the output"
   ]
  },
  {
   "cell_type": "code",
   "execution_count": null,
   "id": "eb98d3fb",
   "metadata": {},
   "outputs": [],
   "source": [
    "\"\"\" Question 5 \"\"\"\n",
    "a=int(input(\"a: \"))\n",
    "print(\"{0:.2f}\".format(a))\n",
    "print(\"{0:.6f}\".format(a))\n",
    "b=int(input(\"Enter b value: \"))\n",
    "print(\"%d\"%b)\n",
    "print(\"%2d\"%b)\n",
    "print(\"%3d\"%b)\n",
    "print(\"octal: %o\"%b)\n",
    "print(\"hex: %X\"%b)\n",
    "# take float number from the user\n",
    "\n",
    "# print up to 2 decimal points\n",
    "\n",
    "# print up to 6 decimal points\n",
    "\n",
    "# take int number from the user\n",
    "\n",
    "# print the number with one space\n",
    "\n",
    "# print the number with two spaces\n",
    "\n",
    "# print the number with three spaces\n",
    "\n",
    "# print the given number b in octal form\n",
    "\n",
    "# print the given input b in hexadecimal form\n"
   ]
  },
  {
   "cell_type": "code",
   "execution_count": null,
   "id": "3e58f3af",
   "metadata": {},
   "outputs": [],
   "source": [
    "\"\"\" Basics of Python Programming \"\"\"\n",
    "\"\"\" Question 1 \"\"\"\n"
   ]
  },
  {
   "cell_type": "code",
   "execution_count": null,
   "id": "f31669f1",
   "metadata": {},
   "outputs": [],
   "source": [
    "\"\"\" Question 2 \"\"\""
   ]
  }
 ],
 "metadata": {
  "kernelspec": {
   "display_name": "Python 3 (ipykernel)",
   "language": "python",
   "name": "python3"
  },
  "language_info": {
   "codemirror_mode": {
    "name": "ipython",
    "version": 3
   },
   "file_extension": ".py",
   "mimetype": "text/x-python",
   "name": "python",
   "nbconvert_exporter": "python",
   "pygments_lexer": "ipython3",
   "version": "3.11.1"
  }
 },
 "nbformat": 4,
 "nbformat_minor": 5
}
