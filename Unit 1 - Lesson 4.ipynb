{
 "cells": [
  {
   "cell_type": "code",
   "execution_count": null,
   "id": "81bfc02f",
   "metadata": {},
   "outputs": [],
   "source": [
    "\"\"\" Expressions and Statements \"\"\"\n",
    "\"\"\" Q1 \"\"\"\n",
    "number1 = 20.50\n",
    "number2 = 38.25\n",
    "print(number1*number2)\n",
    "# Print the multiplication of number1 and number2 using * operator.\n",
    "\n",
    "string1 = \"Amazon\"\n",
    "string2 = \"River\"\n",
    "print(string1+string2)\n",
    "# Print the concatenated value of string1 and string2 using + operator.\n"
   ]
  },
  {
   "cell_type": "code",
   "execution_count": null,
   "id": "a2adb007",
   "metadata": {},
   "outputs": [],
   "source": [
    "\"\"\" Q2 \"\"\"\n",
    "\"\"\"\n",
    "\n",
    "Option 1 In Python, Statements are executed by Interpreter\n",
    "Option 3 The association of a value to a variable is called as Binding\n",
    "Option 5  a = b + a * b is a valid statement in Python.\n",
    "\n",
    "\"\"\"\n"
   ]
  },
  {
   "cell_type": "code",
   "execution_count": null,
   "id": "e37726c7",
   "metadata": {},
   "outputs": [],
   "source": [
    "\"\"\" Q3 \"\"\"\n",
    "print(\"Welcome to Python\")\n",
    "number=45\n",
    "print(number+5)"
   ]
  },
  {
   "cell_type": "code",
   "execution_count": null,
   "id": "afb792e4",
   "metadata": {},
   "outputs": [],
   "source": [
    "\"\"\" Q4 \"\"\"\n",
    "\"\"\" \n",
    "option 2   We can perform assignment with '=' operator.\n",
    "Option 3   a -= b and a = a-b are gives same result.  \n",
    "\"\"\""
   ]
  },
  {
   "cell_type": "code",
   "execution_count": null,
   "id": "bd994f58",
   "metadata": {},
   "outputs": [],
   "source": [
    "\"\"\" Indentation \"\"\"\n",
    "\"\"\" Q1 \"\"\"\n",
    "if 100.0 > 10.0:\n",
    "  print(\"Small Value:\", 10.0);\n",
    "\t\n",
    "else:\n",
    "  print(\"Large Value:\", 100.0);"
   ]
  },
  {
   "cell_type": "code",
   "execution_count": null,
   "id": "1ace723d",
   "metadata": {},
   "outputs": [],
   "source": [
    "\"\"\" Q2 \"\"\"\n",
    "print(\"Hello Python\");"
   ]
  }
 ],
 "metadata": {
  "kernelspec": {
   "display_name": "Python 3 (ipykernel)",
   "language": "python",
   "name": "python3"
  },
  "language_info": {
   "codemirror_mode": {
    "name": "ipython",
    "version": 3
   },
   "file_extension": ".py",
   "mimetype": "text/x-python",
   "name": "python",
   "nbconvert_exporter": "python",
   "pygments_lexer": "ipython3",
   "version": "3.11.1"
  }
 },
 "nbformat": 4,
 "nbformat_minor": 5
}
