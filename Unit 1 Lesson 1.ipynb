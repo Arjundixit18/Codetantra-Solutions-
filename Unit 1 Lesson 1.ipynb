{
 "cells": [
  {
   "cell_type": "code",
   "execution_count": null,
   "id": "42d4609b",
   "metadata": {},
   "outputs": [],
   "source": [
    "\"\"\"\n",
    "Q1\n",
    "The sequence of instructions (in the form of source code) written in a computer programming language is called a computer program.(Correct option)\"\"\""
   ]
  },
  {
   "cell_type": "code",
   "execution_count": null,
   "id": "84259207",
   "metadata": {},
   "outputs": [],
   "source": [
    "\"\"\"\n",
    "Q 2\n",
    "The Python programming language evolved through many versions.\n",
    "\"\"\""
   ]
  },
  {
   "cell_type": "code",
   "execution_count": null,
   "id": "fcdfda4d",
   "metadata": {},
   "outputs": [],
   "source": [
    "\"\"\"\n",
    "Q 3\n",
    "Python source code is written and saved in a file with .py extension\n",
    "\n",
    "\"\"\""
   ]
  },
  {
   "cell_type": "code",
   "execution_count": null,
   "id": "b58e8d60",
   "metadata": {},
   "outputs": [],
   "source": [
    "\"\"\"\n",
    "Q 4\n",
    "\"\"\"\n",
    "print(\"Python is Easy\")"
   ]
  },
  {
   "cell_type": "code",
   "execution_count": null,
   "id": "c65cfaaf",
   "metadata": {},
   "outputs": [],
   "source": [
    "\"\"\"\n",
    "Q 5\n",
    "\"\"\"\n",
    "print(\"Python is not Typhoon\")"
   ]
  },
  {
   "cell_type": "code",
   "execution_count": null,
   "id": "5d863061",
   "metadata": {},
   "outputs": [],
   "source": [
    "\"\"\"\n",
    "Q  6 \n",
    "\"\"\"\n",
    "print(\"Abracadabra\" * 7)"
   ]
  },
  {
   "cell_type": "code",
   "execution_count": null,
   "id": "2f1cea82",
   "metadata": {},
   "outputs": [],
   "source": [
    "\"\"\"\n",
    "Q  7\n",
    "\"\"\"\n",
    "print(\"where \"  \"there \"  \"is \" \"a \" \"will,\" \" there\" \" is \" \"a \" \"way\")"
   ]
  },
  {
   "cell_type": "code",
   "execution_count": null,
   "id": "a258e68f",
   "metadata": {},
   "outputs": [],
   "source": [
    "\"\"\"\n",
    "Q  8\n",
    "\"\"\"\n",
    "\"\"\"\n",
    "Python is an interpreted language.\n",
    "A Python program can execute C and C++ programs also.\n",
    "A Python program written on Windows operating system will also execute on Linux operating system as it is portable.\n",
    "\n",
    "correct options \n",
    "\"\"\"\n"
   ]
  }
 ],
 "metadata": {
  "kernelspec": {
   "display_name": "Python 3 (ipykernel)",
   "language": "python",
   "name": "python3"
  },
  "language_info": {
   "codemirror_mode": {
    "name": "ipython",
    "version": 3
   },
   "file_extension": ".py",
   "mimetype": "text/x-python",
   "name": "python",
   "nbconvert_exporter": "python",
   "pygments_lexer": "ipython3",
   "version": "3.10.7"
  }
 },
 "nbformat": 4,
 "nbformat_minor": 5
}
