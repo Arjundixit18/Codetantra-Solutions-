{
 "cells": [
  {
   "cell_type": "code",
   "execution_count": null,
   "id": "7f29a87f",
   "metadata": {},
   "outputs": [],
   "source": [
    "\"\"\" Dictionaries \"\"\"\n",
    "\"\"\"\n",
    "Option 1  Dictionary is a Python data type to store multiple values\n",
    "\n",
    "Option 4  Keys of the dictionary cannot be changed.\n",
    "\"\"\"\n"
   ]
  },
  {
   "cell_type": "code",
   "execution_count": null,
   "id": "054e7ee5",
   "metadata": {},
   "outputs": [],
   "source": [
    "\"\"\" Data Type Conversions \"\"\"\n",
    "\"\"\" Question 1 \"\"\"\n",
    "a = int(input(\"Enter a value: \"))\n",
    "b = int(input(\"Enter b value: \"))\n",
    "print(a)\n",
    "print(chr(a))\n",
    "print(hex(a))\n",
    "print(complex(a,b))\n",
    "# print a value respective string\n",
    "# print a value respective char\n",
    "# print a value respective hexadecimal value\n",
    "# print a and b of complex number\n"
   ]
  },
  {
   "cell_type": "code",
   "execution_count": null,
   "id": "0d4faff7",
   "metadata": {},
   "outputs": [],
   "source": [
    "\"\"\" Question 2 \"\"\"\n",
    "list1 = [\"key1\",\"key2\",\"key3\"]\n",
    "list2 = [\"value1\",\"value2\",\"value3\"]\n",
    "print(list1)\n",
    "print(list2)\n",
    "mydict = zip(list1,list2)\t# using zip() function we can create dictionary with two lists(one list for keys and one list for values)\n",
    "Set = set(mydict)\n",
    "print(sorted(Set))\n",
    "# convert dictionary into set using set() method\n",
    "\n",
    "# print elements in  sorted order"
   ]
  }
 ],
 "metadata": {
  "kernelspec": {
   "display_name": "Python 3 (ipykernel)",
   "language": "python",
   "name": "python3"
  },
  "language_info": {
   "codemirror_mode": {
    "name": "ipython",
    "version": 3
   },
   "file_extension": ".py",
   "mimetype": "text/x-python",
   "name": "python",
   "nbconvert_exporter": "python",
   "pygments_lexer": "ipython3",
   "version": "3.11.1"
  }
 },
 "nbformat": 4,
 "nbformat_minor": 5
}
