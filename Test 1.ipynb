{
 "cells": [
  {
   "cell_type": "code",
   "execution_count": 1,
   "id": "d9e52686",
   "metadata": {},
   "outputs": [
    {
     "name": "stdout",
     "output_type": "stream",
     "text": [
      "n: 3\n",
      "pqr*n\n"
     ]
    }
   ],
   "source": [
    "n = int(input(\"n: \"))\n",
    "print(\"pqr*n\")"
   ]
  },
  {
   "cell_type": "code",
   "execution_count": 3,
   "id": "05052965",
   "metadata": {},
   "outputs": [
    {
     "name": "stdout",
     "output_type": "stream",
     "text": [
      "Return sum of given arguments.\n",
      "Return the power value.\n"
     ]
    }
   ],
   "source": [
    "#doc string\n",
    "def add(a, b):\n",
    "    \"\"\"Return sum of given arguments.\"\"\"\n",
    "    return a + b\n",
    "def power(b, e):\n",
    "    \"\"\"Return the power value.\"\"\"\n",
    "    return b ** e\n",
    "print(add.__doc__)\n",
    "print(power.__doc__)"
   ]
  },
  {
   "cell_type": "code",
   "execution_count": 4,
   "id": "2976ac39",
   "metadata": {},
   "outputs": [
    {
     "name": "stdout",
     "output_type": "stream",
     "text": [
      "Hello\n",
      "Hello\n",
      "Hello\n",
      "99\n",
      "Hello Python\n",
      "Hello World\n"
     ]
    }
   ],
   "source": [
    "#variables example\n",
    "value1 = value2 = value3 = \"Hello\"\n",
    "print(value1)\n",
    "print(value2)\n",
    "print(value3)\n",
    "print(\"99\")\n",
    "print(\"Hello Python\")\n",
    "print(\"Hello World\")"
   ]
  },
  {
   "cell_type": "code",
   "execution_count": null,
   "id": "b1d62e6f",
   "metadata": {},
   "outputs": [],
   "source": []
  }
 ],
 "metadata": {
  "kernelspec": {
   "display_name": "Python 3 (ipykernel)",
   "language": "python",
   "name": "python3"
  },
  "language_info": {
   "codemirror_mode": {
    "name": "ipython",
    "version": 3
   },
   "file_extension": ".py",
   "mimetype": "text/x-python",
   "name": "python",
   "nbconvert_exporter": "python",
   "pygments_lexer": "ipython3",
   "version": "3.10.7"
  }
 },
 "nbformat": 4,
 "nbformat_minor": 5
}
