{
 "cells": [
  {
   "cell_type": "code",
   "execution_count": null,
   "id": "6ad3830c",
   "metadata": {},
   "outputs": [],
   "source": [
    "\"\"\" Comments \"\"\"\n",
    "\"\"\" Q1 \"\"\"\n",
    "print(\"I am a Python Guru\")\n"
   ]
  },
  {
   "cell_type": "code",
   "execution_count": null,
   "id": "a02fa126",
   "metadata": {},
   "outputs": [],
   "source": [
    "\"\"\" Q2 \"\"\"\n",
    "print(\"1\")\n",
    "# print(\"2\")\n",
    "print(\"3\")\n",
    "# print(\"4\")\n",
    "print(\"5\")\n",
    "#print(\"6\")\n",
    "print(\"7\")\n",
    "#print(\"8\")\n",
    "print(\"9\")\n",
    "# print(\"10\")\n",
    "print(\"11\")\n",
    "# print(\"12\")\n",
    "print(\"13\")"
   ]
  },
  {
   "cell_type": "code",
   "execution_count": null,
   "id": "2e2768e1",
   "metadata": {},
   "outputs": [],
   "source": [
    "\"\"\" Q3 \"\"\"\n",
    "def add(a, b):\n",
    "\t\"\"\"Return sum of given arguments.\"\"\"\n",
    "\treturn a + b\n",
    "\n",
    "def power(b, e):\n",
    "\t\"\"\"Return the power value.\n",
    "\t\n",
    "\tb -- is the base\n",
    "\te -- is the exponent\n",
    "\t\"\"\"\n",
    "\treturn b ** e\n",
    "print(add.__doc__)\n",
    "print(power.__doc__)\n",
    "\n",
    "#print docstring of add method\n",
    "#print docstring of power method "
   ]
  },
  {
   "cell_type": "code",
   "execution_count": null,
   "id": "39a3bf1f",
   "metadata": {},
   "outputs": [],
   "source": [
    "\"\"\" Identifiers and Keywords \"\"\"\n",
    "\"\"\" Q1 \"\"\"\n",
    "# options 1,4,5"
   ]
  },
  {
   "cell_type": "code",
   "execution_count": null,
   "id": "7d5f2f0d",
   "metadata": {},
   "outputs": [],
   "source": [
    "\"\"\" Q2 \"\"\"\n",
    "# options 1,3,4"
   ]
  },
  {
   "cell_type": "code",
   "execution_count": null,
   "id": "d6f20509",
   "metadata": {},
   "outputs": [],
   "source": [
    "\"\"\" Q3 \"\"\"\n",
    "import keyword\n",
    "print('and is a keyword :', keyword.iskeyword('and'))\n",
    "\n",
    "#Fill in the missing code in the below lines\n",
    "print('exec is a keyword : False' )\n",
    "print('nonlocal is a keyword : True' )\n",
    "print('False is a keyword : True' )"
   ]
  }
 ],
 "metadata": {
  "kernelspec": {
   "display_name": "Python 3 (ipykernel)",
   "language": "python",
   "name": "python3"
  },
  "language_info": {
   "codemirror_mode": {
    "name": "ipython",
    "version": 3
   },
   "file_extension": ".py",
   "mimetype": "text/x-python",
   "name": "python",
   "nbconvert_exporter": "python",
   "pygments_lexer": "ipython3",
   "version": "3.10.7"
  }
 },
 "nbformat": 4,
 "nbformat_minor": 5
}
