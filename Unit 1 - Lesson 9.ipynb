{
 "cells": [
  {
   "cell_type": "code",
   "execution_count": null,
   "id": "92cd0fbf",
   "metadata": {},
   "outputs": [],
   "source": [
    "\"\"\" Arithmetic Operators \"\"\"\n",
    "\"\"\" Question - 1\n",
    "option 1 -- Python supports 7 arithmetic operators.\n",
    "option 2 -- An exponent operator is represented by ** in Python.\n",
    "option 3 -- // is called as Floor division operator.\n",
    "\"\"\""
   ]
  },
  {
   "cell_type": "code",
   "execution_count": null,
   "id": "730b5099",
   "metadata": {},
   "outputs": [],
   "source": [
    "\"\"\" Question - 2 \"\"\"\n",
    "#Arithmetic Operators are +, -, *, /, **, %, //\n",
    "num1 = int(input(\"num1: \"))\n",
    "num2 = int(input(\"num2: \"))\n",
    "print(num1,\"+\",num2,\"=\",num1+num2)\n",
    "print(num1,\"-\",num2,\"=\",num1-num2)\n",
    "print(num1,\"*\",num2,\"=\",num1*num2)\n",
    "print(num1,\"/\",num2,\"=\",num1/num2)\n",
    "print(num1,\"**\",num2,\"=\",num1**num2)\n",
    "print(num1,\"%\",num2,\"=\",num1%num2)\n",
    "print(num1,\"//\",num2,\"=\",num1//num2)\n",
    "# print num1+num2\n",
    "# print num1-num2\n",
    "# print num1*num2\n",
    "# print num1/num2\n",
    "# print num1**num2\n",
    "# print num1%num2\n",
    "# print num1//num2"
   ]
  },
  {
   "cell_type": "code",
   "execution_count": null,
   "id": "51abb594",
   "metadata": {},
   "outputs": [],
   "source": [
    "\"\"\" Question - 3 \"\"\"\n",
    "num1 = int(input (\"num1: \"))\n",
    "num2 = int(input (\"num2: \"))\n",
    "print(\"Addition of\",num1,\"and\",num2,\"=\",num1+num2)\n",
    "print(\"Subtraction of\",num1,\"and\",num2,\"=\",num1-num2)\n",
    "print(\"Multiplication of\",num1,\"and\",num2,\"=\",num1*num2)\n",
    "print(\"Division of\",num1,\"and\",num2,\"=\",num1/num2)\n",
    "\n",
    "# Print the addition of num1 and num2\n",
    "# Print the subtraction of num1 and num2\n",
    "# Print the multiplication of num1 and num2\n",
    "# Print the division of num1 and num2\n"
   ]
  },
  {
   "cell_type": "code",
   "execution_count": null,
   "id": "88f64995",
   "metadata": {},
   "outputs": [],
   "source": [
    "\"\"\" Question - 4 \"\"\"\n",
    "num1 = int(input(\"num1: \"))\n",
    "num2 = int(input(\"num2: \"))\n",
    "print(\"Exponent of\",num1,\"with\",num2,\"=\",num1**num2)\n",
    "print(\"Modulus of\",num1,\"and\",num2,\"=\",num1%num2)\n",
    "print(\"Floor Division of\",num1,\"and\",num2,\"=\",num1//num2)\n",
    "\n",
    "# Print the exponenet of num1 to the power of num2\n",
    "# Print the modulous function of num1 and num2\n",
    "# Print the floor division function of num1 and num2"
   ]
  },
  {
   "cell_type": "code",
   "execution_count": null,
   "id": "5d27083b",
   "metadata": {},
   "outputs": [],
   "source": [
    "\"\"\" Question - 5 \"\"\"\n",
    "num1=int(input(\"num1: \"))\n",
    "num2=int(input(\"num2: \"))\n",
    "print(\"Exponent of\",num1,\"with\",num2,\"=\",num1**num2)\n",
    "print(\"Modulus of\",num1,\"and\",num2,\"=\",num1%num2)\n",
    "print(\"Floor Division of\",num1,\"and\",num2,\"=\",num1//num2)"
   ]
  },
  {
   "cell_type": "code",
   "execution_count": null,
   "id": "c6b34997",
   "metadata": {},
   "outputs": [],
   "source": [
    "\"\"\" Question - 6 \"\"\"\n",
    "#Program to illustrate divmod() function\n",
    "# Input num1 with message \"Enter number-1: \"\n",
    "# Input num2 with message \"Enter number-2: \"\n",
    "# use divmod() and store results in 2 variables x, and y\n",
    "num1=int(input(\"num1: \"))\n",
    "num2=int(input(\"num2: \"))\n",
    "\n",
    "print((num1), '//', (num2), '=', (num1//num2)) # replace variables in () and print the results\n",
    "print((num1), '%', (num2), '=', (num1%num2))"
   ]
  },
  {
   "cell_type": "code",
   "execution_count": null,
   "id": "55ad59c5",
   "metadata": {},
   "outputs": [],
   "source": [
    "\"\"\" Comparison Operators \"\"\"\n",
    "\"\"\" Question - 1 \"\"\"\n",
    "num1 = int(input(\"num1: \"))\n",
    "num2 = int(input(\"num2: \"))\n",
    "a=(num1>num2)\n",
    "print(\"Is\",num1,\"greater than\",num2,\"=\",a)\n",
    "b=(num1<num2)\n",
    "print(\"Is\",num1,\"less than\",num2,\"=\",b)\n",
    "c=(num1==num2)\n",
    "print(\"Is\",num1,\"equal to\",num2,\"=\",c)\n",
    "d=(num1 !=num2)\n",
    "print(\"Is\",num1,\"not equal to\",num2,\"=\",d)\n",
    "e=(num1<=num2)\n",
    "print(\"Is\",num1,\"less than or equal to\",num2,\"=\",e)\n",
    "f=(num1>=num2)\n",
    "print(\"Is\",num1,\"greater than or equal to\",num2,\"=\",f)\n",
    "\n",
    "# Print Is num1 greater than num2.\n",
    "# Print Is num1 less than num2.\n",
    "# Print Is num1 equal to num2.\n",
    "# Print Is num1 not equal to num2.\n",
    "# Print Is num1 less than or equal to num2.\n",
    "# Print Is num1 greater than or equal to num2.\n"
   ]
  },
  {
   "cell_type": "code",
   "execution_count": null,
   "id": "1ccea81c",
   "metadata": {},
   "outputs": [],
   "source": [
    "\"\"\" Question - 2 \"\"\"\n",
    "num1=int(input(\"num1: \"))\n",
    "num2=int(input(\"num2: \"))\n",
    "a=(num1>num2)\n",
    "print(\"Is\",num1,\"greater than\",num2,\"=\",a)\n",
    "b=(num1<num2)\n",
    "print(\"Is\",num1,\"less than\",num2,\"=\",b)\n",
    "c=(num1==num2)\n",
    "print(\"Is\",num1,\"equal to\",num2,\"=\",c)\n",
    "d=(num1!=num2)\n",
    "print(\"Is\",num1,\"not equal to\",num2,\"=\",d)\n",
    "e=(num1>=num2)\n",
    "print(\"Is\",num1,\"greater than or equal to\",num2,\"=\",e)\n",
    "f=(num1<=num2)\n",
    "print(\"Is\",num1,\"less than or equal to\",num2,\"=\",f)"
   ]
  },
  {
   "cell_type": "code",
   "execution_count": null,
   "id": "de54e4c3",
   "metadata": {},
   "outputs": [],
   "source": [
    "\"\"\" Question - 3 \"\"\"\n",
    "# write your code here\n",
    "a=input(\"str1: \")\n",
    "b=input(\"str2: \")\n",
    "print(\"Is\",a,\"greater than\",b,\"=\",a>b)\n",
    "print(\"Is\",a,\"less than\",b,\"=\",a<b)\n",
    "print(\"Is\",a,\"equal to\",b,\"=\",a==b)\n",
    "print(\"Is\",a,\"not equal to\",b,\"=\",a!=b)\n",
    "print(\"Is\",a,\"greater than or equal to\",b,\"=\",a>=b)\n",
    "print(\"Is\",a,\"less than or equal to\",b,\"=\",a<=b)"
   ]
  },
  {
   "cell_type": "code",
   "execution_count": null,
   "id": "1360aa1f",
   "metadata": {},
   "outputs": [],
   "source": [
    "\"\"\" Question - 4 \"\"\"\n",
    "str1 = input(\"str1: \")\n",
    "str2 = input(\"str2: \")\n",
    "print (\"Is\", str1, \"greater than\", str2,\"=\",str1>str2)\n",
    "print (\"Is\", str1 ,\"less than\", str2,\"=\",str1<str2)\n",
    "print (\"Is\", str1, \"equal to\", str2,\"=\",str1==str2)\n",
    "print (\"Is\", str1, \"not equal to\", str2,\"=\",str1!=str2)\n",
    "print (\"Is\", str1, \"greater than or equal to\", str2,\"=\",str1>=str2)\n",
    "print (\"Is\", str1, \"less than or equal to\", str2,\"=\",str1<=str2)"
   ]
  }
 ],
 "metadata": {
  "kernelspec": {
   "display_name": "Python 3 (ipykernel)",
   "language": "python",
   "name": "python3"
  },
  "language_info": {
   "codemirror_mode": {
    "name": "ipython",
    "version": 3
   },
   "file_extension": ".py",
   "mimetype": "text/x-python",
   "name": "python",
   "nbconvert_exporter": "python",
   "pygments_lexer": "ipython3",
   "version": "3.11.1"
  }
 },
 "nbformat": 4,
 "nbformat_minor": 5
}
