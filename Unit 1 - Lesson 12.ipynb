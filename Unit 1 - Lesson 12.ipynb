{
 "cells": [
  {
   "cell_type": "code",
   "execution_count": null,
   "id": "0807259a",
   "metadata": {},
   "outputs": [],
   "source": [
    "\"\"\" Identity Operators \"\"\"\n",
    "\"\"\" Q1 \"\"\"\n",
    "# id(object) is unique and Constant for an object during its lifetime."
   ]
  },
  {
   "cell_type": "code",
   "execution_count": null,
   "id": "d15b83f3",
   "metadata": {},
   "outputs": [],
   "source": [
    "\"\"\" Q2 \"\"\"\n",
    "a=eval(input(\"Enter an integer: \"))\n",
    "b=eval(input(\"Enter the same integer: \"))\n",
    "x=(a is b)\n",
    "print(\"x is y\",x)\n",
    "y=(a is not b)\n",
    "print(\"x is not y\",y)\n",
    "f=eval(input(\"Enter a Float Number: \"))\n",
    "g=eval(input(\"Enter the same Number: \"))\n",
    "q=(f is g)\n",
    "print(\"x is y\",q)\n",
    "r=(f is not g)\n",
    "print(\"x is not y\",r)"
   ]
  },
  {
   "cell_type": "code",
   "execution_count": null,
   "id": "3a02df5d",
   "metadata": {},
   "outputs": [],
   "source": [
    "\"\"\" Q3 \"\"\"\n",
    "x=int(input(\"x: \"))\n",
    "y=int(input(\"y: \"))\n",
    "if(x is y):\n",
    "\tprint(x,\"is\",y,\"True\")\n",
    "else:\n",
    "\tprint(x,\"is\",y,\"False\")"
   ]
  },
  {
   "cell_type": "code",
   "execution_count": null,
   "id": "55edd863",
   "metadata": {},
   "outputs": [],
   "source": [
    "\"\"\" Q4 \"\"\"\n",
    "x=int(input(\"x: \"))\n",
    "y=int(input(\"y: \"))\n",
    "a=(x is not y)\n",
    "print(x,\"is not\",y,a)"
   ]
  },
  {
   "cell_type": "code",
   "execution_count": null,
   "id": "ee513288",
   "metadata": {},
   "outputs": [],
   "source": [
    "\"\"\" Operators Precedence\"\"\"\n",
    "\"\"\" Q1 \"\"\"\n",
    "#Operator precedence is performed based on priority of an operator.\n",
    "#Associativity is used when two operators of same precedence are in the same expressio"
   ]
  },
  {
   "cell_type": "code",
   "execution_count": null,
   "id": "072387a7",
   "metadata": {},
   "outputs": [],
   "source": [
    "\"\"\" Q2 \"\"\""
   ]
  },
  {
   "cell_type": "code",
   "execution_count": null,
   "id": "f4f06468",
   "metadata": {},
   "outputs": [],
   "source": [
    "\"\"\" Q3 \"\"\"\n",
    "a=int(input(\"a: \"))\n",
    "b=int(input(\"b: \"))\n",
    "x=(a+b*5)\n",
    "y=(a+b*(6/2))\n",
    "print(a,\"+\",b,\"* 5\",\"=\",x)\n",
    "print(a,\"+\",b,\"* 6 / 2\",\"=\",y)"
   ]
  },
  {
   "cell_type": "code",
   "execution_count": null,
   "id": "fc16a25a",
   "metadata": {},
   "outputs": [],
   "source": [
    "\"\"\" Q4 \"\"\"\n",
    "a=int(input(\"a: \"))\n",
    "b=int(input(\"b: \"))\n",
    "x=(a+b*5)\n",
    "y=(a+b*5*(10/2))\n",
    "print(a,\"+\",b,\"* 5 =\",x)\n",
    "print(a,\"+\",b,\"* 5 * 10 / 2 =\",y)"
   ]
  },
  {
   "cell_type": "code",
   "execution_count": null,
   "id": "79302deb",
   "metadata": {},
   "outputs": [],
   "source": [
    "\"\"\" Q5 \"\"\"\n",
    "a=int(input(\"a: \"))\n",
    "b=int(input(\"b: \"))\n",
    "c=int(input(\"c: \"))\n",
    "x=(a and b or c)\n",
    "y=(a or b and c)\n",
    "print(\"a and b or c\",x)\n",
    "print(\"a or b and c\",y)"
   ]
  },
  {
   "cell_type": "code",
   "execution_count": null,
   "id": "9ba85a9c",
   "metadata": {},
   "outputs": [],
   "source": [
    "\"\"\" Q6 \"\"\"\n",
    "a=int(input(\"a: \"))\n",
    "b=int(input(\"b: \"))\n",
    "c=int(input(\"c: \"))\n",
    "x=(a and b and c or a)\n",
    "y=(a or b and c and a)\n",
    "print(a,\"and\",b,\"and\",c,\"or\",a,\"is\",x)\n",
    "print(a,\"or\",b,\"and\",c,\"and\",a,\"is\",y)"
   ]
  }
 ],
 "metadata": {
  "kernelspec": {
   "display_name": "Python 3 (ipykernel)",
   "language": "python",
   "name": "python3"
  },
  "language_info": {
   "codemirror_mode": {
    "name": "ipython",
    "version": 3
   },
   "file_extension": ".py",
   "mimetype": "text/x-python",
   "name": "python",
   "nbconvert_exporter": "python",
   "pygments_lexer": "ipython3",
   "version": "3.10.7"
  }
 },
 "nbformat": 4,
 "nbformat_minor": 5
}
