{
 "cells": [
  {
   "cell_type": "code",
   "execution_count": null,
   "id": "a669fea9",
   "metadata": {},
   "outputs": [],
   "source": [
    "\"\"\"  If Statement \"\"\" \n",
    "\"\"\" Question 1 \"\"\"\n",
    "\"\"\" Option 1 - Control-flow statements are those which can control the execution flow. \"\"\"\n",
    "\"\"\" Option 3 -  Iterative statements can repeat the execution of statements depending on a condition. \"\"\""
   ]
  },
  {
   "cell_type": "code",
   "execution_count": null,
   "id": "f26c485c",
   "metadata": {},
   "outputs": [],
   "source": [
    "\"\"\" Question 2 \"\"\"\n",
    "#Program to illustrate simple if statemen\n",
    "num = int(input(\"num: \"))\n",
    "if(num%3==0):\n",
    "\tprint(\"divisible by 3\")\n",
    "print(\"End of program\")\n",
    "\t\n"
   ]
  },
  {
   "cell_type": "code",
   "execution_count": null,
   "id": "fa036982",
   "metadata": {},
   "outputs": [],
   "source": [
    "\"\"\" Question 3 \"\"\"\n",
    "\"\"\" Option 2 - a and b are equal. \"\"\""
   ]
  }
 ],
 "metadata": {
  "kernelspec": {
   "display_name": "Python 3 (ipykernel)",
   "language": "python",
   "name": "python3"
  },
  "language_info": {
   "codemirror_mode": {
    "name": "ipython",
    "version": 3
   },
   "file_extension": ".py",
   "mimetype": "text/x-python",
   "name": "python",
   "nbconvert_exporter": "python",
   "pygments_lexer": "ipython3",
   "version": "3.11.1"
  }
 },
 "nbformat": 4,
 "nbformat_minor": 5
}
