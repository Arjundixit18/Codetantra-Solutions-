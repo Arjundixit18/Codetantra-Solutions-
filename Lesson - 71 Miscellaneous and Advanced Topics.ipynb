{
 "cells": [
  {
   "cell_type": "code",
   "execution_count": null,
   "id": "923a8682",
   "metadata": {},
   "outputs": [],
   "source": [
    "\"\"\" Dates and Times \"\"\"\n",
    "\"\"\" Question 1 \"\"\"\n",
    "\"\"\" option 1 The datetime module has many classes for manipulating dates and times.\n",
    "    option 2 The implementation provided by datetime classes are very efficient for output formatting and manipulation of date and time.\n",
    "    option 3 An aware object has information of algorithmic time adjustments, such as time zone and daylight saving time information.\n",
    "    option 5 The tzinfo objects store information about the offset from UTC time.\n",
    "\n",
    "\"\"\""
   ]
  },
  {
   "cell_type": "code",
   "execution_count": null,
   "id": "52efdff9",
   "metadata": {},
   "outputs": [],
   "source": [
    "\"\"\" Question 2 \"\"\"\n",
    "import datetime\n",
    "from datetime import date\n",
    "from datetime import timedelta\n",
    "# Take the input date from the user in the form of yyyy-mm-dd and store it in a variable d\n",
    "d = input(\"date in yyyy-mm-dd format: \")\n",
    "# Take the input from the user i.e number of days the user want add the given date\n",
    "days = int(input(\"days to add the current date: \"))\n",
    "year, month, day = d.split('-')\n",
    "d = datetime.date(int(year), int(month), int(day)) # converting string data into int \n",
    "d = d+timedelta(days)\n",
    "print(d)\n",
    "# print weekday using date.weekday() by passing d as argument\n",
    "print(\"weekday(0-6):\",date.weekday(d))\n",
    "# print date.isoweekday() by passing d as argument\n",
    "print(\"weekday(1-7):\",date.isoweekday(d))\n",
    "\n",
    "\n"
   ]
  },
  {
   "cell_type": "code",
   "execution_count": null,
   "id": "69ac109c",
   "metadata": {},
   "outputs": [],
   "source": [
    "\"\"\" Question 3 \"\"\"\n",
    "import datetime\n",
    "from datetime import date\n",
    "d = input(\"date in yyyy-mm-dd format: \")\n",
    "year,month,day=d.split('-')\n",
    "d = datetime.date(int(year),int(month),int(day))\n",
    "print(\"date:\",d)\n",
    "print(\"month: {} ,day: {} ,year: {}\".format(int(month),day,year))\n",
    "year = int(year)\n",
    "a = int(input(\"year before/after the current year: \"))\n",
    "if a<=year:\n",
    "\tb = year - a\n",
    "\tprint(\"{} years before the current year\".format(b))\n",
    "else:\n",
    "\tb = a - year\n",
    "\tprint(\"{} years after the current year\".format(b))"
   ]
  },
  {
   "cell_type": "code",
   "execution_count": null,
   "id": "6c52d877",
   "metadata": {},
   "outputs": [],
   "source": [
    "\"\"\" Question 4 \"\"\"\n",
    "import datetime\n",
    "from datetime import date\n",
    "from datetime import timedelta\n",
    "\n",
    "# take the date input from the user\n",
    "d = input(\"date in yyyy-mm-dd format: \")\n",
    "year, month, day = d.split('-')\n",
    "d = datetime.date(int(year), int(month), int(day))\n",
    "\n",
    "# add 3 days to the given date using timedelta function\n",
    "d  = d + timedelta(3)\n",
    "# print the new date\n",
    "print(\"adding 3 days:\",d)"
   ]
  },
  {
   "cell_type": "code",
   "execution_count": null,
   "id": "902a5eb5",
   "metadata": {},
   "outputs": [],
   "source": [
    "\"\"\" Question 5 \"\"\"\n",
    "from datetime import timedelta,date\n",
    "#define two years del1 and del2 specifying the number of days in the year.\n",
    "#Let us do some operations\n",
    "d1 = int(input(\"days in 1st year: \"))\n",
    "d2 = int(input(\"days in 2nd year: \"))\n",
    "# find del1 - del2 and print the result\n",
    "print(\"d3 = d1 - d2:\",timedelta(d1)-timedelta(d2))\n",
    "# find del1 + del2 and print the result\n",
    "print(\"d3 = d1 + d2:\",timedelta(d1)+timedelta(d2))\n",
    "# find del1 / del2 and print the result\n",
    "print(\"d3 = d1 / d2:\",timedelta(d1)/timedelta(d2))\n",
    "# find del1 % del2 and print the result\n",
    "print(\"d3 = d1 % d2:\",timedelta(d1)%timedelta(d2))\n",
    "# find del1 * 2 and print the result\n",
    "print(\"d3 = d1 * 2:\",timedelta(d1)*2)"
   ]
  },
  {
   "cell_type": "code",
   "execution_count": null,
   "id": "c4a3fd82",
   "metadata": {},
   "outputs": [],
   "source": [
    "\"\"\" Question 6 \"\"\"\n"
   ]
  },
  {
   "cell_type": "code",
   "execution_count": null,
   "id": "e14a4741",
   "metadata": {},
   "outputs": [],
   "source": [
    "\"\"\" Question 7 \"\"\""
   ]
  },
  {
   "cell_type": "code",
   "execution_count": null,
   "id": "0ddaa57a",
   "metadata": {},
   "outputs": [],
   "source": [
    "\"\"\" Question 8 \"\"\""
   ]
  },
  {
   "cell_type": "code",
   "execution_count": null,
   "id": "55c54a1d",
   "metadata": {},
   "outputs": [],
   "source": [
    "\"\"\" Question 9 \"\"\"\n",
    "from datetime import datetime\n",
    "import datetime\n",
    "from datetime import date\n",
    "import locale\n",
    "d = input(\"date in yyyy-mm-dd format: \")\n",
    "year,month,day=d.split('-')\n",
    "d = date(int(year),int(month),int(day))\n",
    "#Taking input date from the user and convert into int formate using datetime objecte\n",
    "print(\"date, time in locale format:\",d.strftime('%a %b %d %H:%M:%S %Y'))\n",
    "print(\"weekday in locale format:\",d.strftime('%a'))\n",
    "print(\"date in locale format:\",d.strftime('%m/%d/%y'))\n",
    "\n"
   ]
  },
  {
   "cell_type": "code",
   "execution_count": null,
   "id": "dceaa4f8",
   "metadata": {},
   "outputs": [],
   "source": [
    "\"\"\" Operating System Interface \"\"\"\n",
    "\"\"\" Question 1 \"\"\"\n",
    "\"\"\" option 1 Operating System module is one of the modules that is mostly used in Python.\n",
    "    option 2 We use the OS module to talk to the underlying operating system.\n",
    "\"\"\""
   ]
  },
  {
   "cell_type": "code",
   "execution_count": null,
   "id": "98bf0153",
   "metadata": {},
   "outputs": [],
   "source": [
    "\"\"\" Question 2 \"\"\""
   ]
  },
  {
   "cell_type": "code",
   "execution_count": null,
   "id": "52e9edf7",
   "metadata": {},
   "outputs": [],
   "source": [
    "\"\"\" Question 3 \"\"\""
   ]
  },
  {
   "cell_type": "code",
   "execution_count": null,
   "id": "81bb42a4",
   "metadata": {},
   "outputs": [],
   "source": [
    "\"\"\" Question 4 \"\"\""
   ]
  },
  {
   "cell_type": "code",
   "execution_count": null,
   "id": "d4700a0b",
   "metadata": {},
   "outputs": [],
   "source": [
    "\"\"\" Question 5 \"\"\""
   ]
  },
  {
   "cell_type": "code",
   "execution_count": null,
   "id": "96586e34",
   "metadata": {},
   "outputs": [],
   "source": [
    "\"\"\" Turtle Graphics \"\"\"\n",
    "\"\"\" Question 1 \"\"\"\n",
    "\"\"\" option 1 Turtle module is a part of standard library. \"\"\"\n"
   ]
  },
  {
   "cell_type": "code",
   "execution_count": null,
   "id": "517cc8aa",
   "metadata": {},
   "outputs": [],
   "source": [
    "\"\"\" Question 2 \"\"\"\n",
    "\"\"\" option 1 turtle.setx(x) Sets the Turtle to x coordinate. \"\"\"\n"
   ]
  },
  {
   "cell_type": "code",
   "execution_count": null,
   "id": "db4ff67c",
   "metadata": {},
   "outputs": [],
   "source": [
    "\"\"\" Question 3 \"\"\" \n",
    "\"\"\" Option 1 tilt() Returns the tilt angle \"\"\""
   ]
  },
  {
   "cell_type": "code",
   "execution_count": null,
   "id": "ad7cf5f4",
   "metadata": {},
   "outputs": [],
   "source": [
    "\"\"\" Question 4 \"\"\"\n"
   ]
  },
  {
   "cell_type": "code",
   "execution_count": null,
   "id": "ff724506",
   "metadata": {},
   "outputs": [],
   "source": [
    "\"\"\" Question 5 \"\"\"\n"
   ]
  },
  {
   "cell_type": "code",
   "execution_count": null,
   "id": "da27afca",
   "metadata": {},
   "outputs": [],
   "source": [
    "\"\"\" Question 6 \"\"\""
   ]
  },
  {
   "cell_type": "code",
   "execution_count": null,
   "id": "5421b0b5",
   "metadata": {},
   "outputs": [],
   "source": [
    "\"\"\" Question 7 \"\"\""
   ]
  },
  {
   "cell_type": "code",
   "execution_count": null,
   "id": "3171a563",
   "metadata": {},
   "outputs": [],
   "source": [
    "\"\"\" Question 8 \"\"\""
   ]
  },
  {
   "cell_type": "code",
   "execution_count": null,
   "id": "7d469bd7",
   "metadata": {},
   "outputs": [],
   "source": [
    "\"\"\" Question 9 \"\"\"\n",
    "from datetime import datetime\n",
    "import datetime\n",
    "from datetime import date\n",
    "import locale\n",
    "d = input(\"date in yyyy-mm-dd format: \")\n",
    "year,month,day=d.split('-')\n",
    "d = date(int(year),int(month),int(day))\n",
    "#Taking input date from the user and convert into int formate using datetime objecte\n",
    "print(\"date, time in locale format:\",d.strftime('%a %b %d %H:%M:%S %Y'))\n",
    "print(\"weekday in locale format:\",d.strftime('%a'))\n",
    "print(\"date in locale format:\",d.strftime('%m/%d/%y'))\n",
    "\n"
   ]
  }
 ],
 "metadata": {
  "kernelspec": {
   "display_name": "Python 3 (ipykernel)",
   "language": "python",
   "name": "python3"
  },
  "language_info": {
   "codemirror_mode": {
    "name": "ipython",
    "version": 3
   },
   "file_extension": ".py",
   "mimetype": "text/x-python",
   "name": "python",
   "nbconvert_exporter": "python",
   "pygments_lexer": "ipython3",
   "version": "3.11.1"
  }
 },
 "nbformat": 4,
 "nbformat_minor": 5
}
