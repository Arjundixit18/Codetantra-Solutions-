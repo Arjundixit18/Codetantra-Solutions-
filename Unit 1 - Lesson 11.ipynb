{
 "cells": [
  {
   "cell_type": "code",
   "execution_count": null,
   "id": "80af2ec1",
   "metadata": {},
   "outputs": [],
   "source": [
    "\"\"\" Logical Operators  \"\"\" \n",
    "\"\"\" Question 1 \"\"\"\n",
    "\"\"\" option 2 - In logical and the result is true if the both operands are true.\"\"\"\n"
   ]
  },
  {
   "cell_type": "code",
   "execution_count": null,
   "id": "f8f1aeb2",
   "metadata": {},
   "outputs": [],
   "source": [
    "\"\"\" Question 2 \"\"\"\n",
    "person=input(\"M or F: \")\n",
    "age=int(input(\"age: \"))\n",
    "if person==\"M\" and age>=65:\n",
    "\tprint(\"Eligible for Concession\")\n",
    "elif person==\"F\" and age>=60:\n",
    "\tprint(\"Eligible for Concession\")\n",
    "else:\n",
    "\tprint(\"Not Eligible for Concession\")"
   ]
  },
  {
   "cell_type": "code",
   "execution_count": null,
   "id": "791be5fd",
   "metadata": {},
   "outputs": [],
   "source": [
    "\"\"\" Question 3 \"\"\"\n",
    "# write your code here\n",
    "a=int(input(\"a: \"))\n",
    "b=int(input(\"b: \"))\n",
    "c=int(input(\"c: \"))\n",
    "if(a is 6 and b is 6 and c is not 6):\n",
    "\tprint(\"True\")\n",
    "else:\n",
    "\tprint(\"False\")"
   ]
  },
  {
   "cell_type": "code",
   "execution_count": null,
   "id": "ffa0d8aa",
   "metadata": {},
   "outputs": [],
   "source": [
    "\"\"\" Question 4 \"\"\"\n",
    "# Program to illustrate logical and\n",
    "a = int(input(\"a: \"))\n",
    "b = int(input(\"b: \"))\n",
    "if(a==6 or b==6 or a+b==6 or a-b==6):\n",
    "\tprint(\"True\")\n",
    "else:\n",
    "\tprint(\"False\")\n",
    "# correct and write your code here"
   ]
  },
  {
   "cell_type": "code",
   "execution_count": null,
   "id": "075948e9",
   "metadata": {},
   "outputs": [],
   "source": [
    "\"\"\" Question 5 \"\"\"\n",
    "# Program to illustrate logical not\n",
    "a=input(\"Enter day: \")\n",
    "if(a==\"SAT\" or a==\"SUN\"):\n",
    "\tprint(\"Weekend\")\n",
    "else:\n",
    "\tprint(\"Not Weekend\")"
   ]
  },
  {
   "cell_type": "code",
   "execution_count": null,
   "id": "4814e055",
   "metadata": {},
   "outputs": [],
   "source": [
    "\"\"\" Membership Operators  \"\"\"\n",
    "\"\"\" Question 1 \"\"\"\n",
    "\"\"\" option 1 - in and not in operators check the existence of a member in a collection. \"\"\"\n",
    "\"\"\" option 3 - if in operator returns False, not in operator will return True. \"\"\"\n",
    "\"\"\" option 5 - An empty string is part of every other string. \"\"\""
   ]
  },
  {
   "cell_type": "code",
   "execution_count": null,
   "id": "09b245a9",
   "metadata": {},
   "outputs": [],
   "source": [
    "\"\"\" Question 2 \"\"\"\n",
    "str1=input(\"str1: \")\n",
    "str2=input(\"str2: \")\n",
    "a=(str2 in str1)\n",
    "print(str2,\"in\",str1,\":\",a)"
   ]
  },
  {
   "cell_type": "code",
   "execution_count": null,
   "id": "598ff8c3",
   "metadata": {},
   "outputs": [],
   "source": [
    "\"\"\" Question 3 \"\"\"\n",
    "#Program to illustrate in and not in for strings\n",
    "str1=input(\"str1: \")\n",
    "str2=input(\"str2: \")\n",
    "a=(str2 in str1)\n",
    "b=(str2 not in str1)\n",
    "print(str2, \"in\",str1,\"is:\",a)\n",
    "print(str2,\"not in\",str1,\"is:\",b)"
   ]
  },
  {
   "cell_type": "code",
   "execution_count": null,
   "id": "84d7054c",
   "metadata": {},
   "outputs": [],
   "source": [
    "\"\"\" Question 4 \"\"\"\n",
    "# Program to illustrate membership\n",
    "L1 = ['A', '123', 'Ramana', [1, 2], 34.56, '55']\n",
    "# for 34.56 returns False as output because input() return type is True so it converts 34.56 as string.\n",
    "print(L1)\n",
    "e=input(\"element: \")\n",
    "a=(e in L1)\n",
    "b=(e not in L1)\n",
    "print(e,\"in\",L1,\"is:\",a)\n",
    "print(e,\"not in\",L1,\"is:\",b)\n",
    "# write your code here"
   ]
  }
 ],
 "metadata": {
  "kernelspec": {
   "display_name": "Python 3 (ipykernel)",
   "language": "python",
   "name": "python3"
  },
  "language_info": {
   "codemirror_mode": {
    "name": "ipython",
    "version": 3
   },
   "file_extension": ".py",
   "mimetype": "text/x-python",
   "name": "python",
   "nbconvert_exporter": "python",
   "pygments_lexer": "ipython3",
   "version": "3.11.1"
  }
 },
 "nbformat": 4,
 "nbformat_minor": 5
}
