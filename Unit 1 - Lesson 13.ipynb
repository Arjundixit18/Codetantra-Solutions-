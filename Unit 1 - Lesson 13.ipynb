{
 "cells": [
  {
   "cell_type": "code",
   "execution_count": null,
   "id": "88df2d01",
   "metadata": {},
   "outputs": [],
   "source": [
    "\"\"\"\n",
    "Q 1\n",
    "\"\"\"\n",
    "a=int(input(\"kg: \"))\n",
    "ld=2.2*a\n",
    "print(\"lb:\",ld)"
   ]
  },
  {
   "cell_type": "code",
   "execution_count": null,
   "id": "7ea49ca3",
   "metadata": {},
   "outputs": [],
   "source": [
    "\"\"\"\n",
    "\n",
    "Q 2\n",
    "\n",
    "\"\"\"\n",
    "Temperature_in_Celsius=eval(input(\"temp in celsius: \"))\n",
    "F=1.8* Temperature_in_Celsius+32.0\n",
    "print(\"temp in fahrenheit is\",F)"
   ]
  },
  {
   "cell_type": "code",
   "execution_count": null,
   "id": "01e07eb7",
   "metadata": {},
   "outputs": [],
   "source": [
    "\"\"\"\n",
    "\n",
    "Q 3\n",
    "\"\"\"\n",
    "a=int(input(\"a: \"))\n",
    "b=int(input(\"b: \"))\n",
    "print(a,\"+\",b,\"=\",a+b)\n",
    "print(a,\"-\",b,\"=\",a-b)\n",
    "print(a,\"*\",b,\"=\",a*b)\n",
    "print(a,\"/\",b,\"=\",a/b)\n",
    "print(a,\"**\",b,\"=\",a**b)\n",
    "print(a,\"%\",b,\"=\",a%b)\n",
    "print(a,\"//\",b,\"=\",a//b)"
   ]
  }
 ],
 "metadata": {
  "kernelspec": {
   "display_name": "Python 3 (ipykernel)",
   "language": "python",
   "name": "python3"
  },
  "language_info": {
   "codemirror_mode": {
    "name": "ipython",
    "version": 3
   },
   "file_extension": ".py",
   "mimetype": "text/x-python",
   "name": "python",
   "nbconvert_exporter": "python",
   "pygments_lexer": "ipython3",
   "version": "3.10.7"
  }
 },
 "nbformat": 4,
 "nbformat_minor": 5
}
