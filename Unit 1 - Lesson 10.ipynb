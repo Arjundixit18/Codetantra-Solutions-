{
 "cells": [
  {
   "cell_type": "code",
   "execution_count": null,
   "id": "4de27725",
   "metadata": {},
   "outputs": [],
   "source": [
    "\"\"\"Assignment Operators\"\"\"\n",
    "\"\"\" Question - 1 \"\"\"\n",
    "x=int(input(\"x: \"))\n",
    "y=int(input(\"y: \"))\n",
    "a=x+y\n",
    "print(\"x += y:\",\"x\",\"=\",a,\"and\",\"y\",\"=\",y)\n",
    "b=x-y\n",
    "print(\"x -= y:\",\"x\",\"=\",b,\"and\",\"y\",\"=\",y)\n",
    "c=x*y\n",
    "print(\"x *= y:\",\"x\",\"=\",c,\"and\",\"y\",\"=\",y)\n",
    "d=x/y\n",
    "print(\"x /= y:\",\"x\",\"=\",d,\"and\",\"y\",\"=\",y)\n",
    "e=x**y\n",
    "print(\"x **= y:\",\"x\",\"=\",e,\"and\",\"y\",\"=\",y)\n",
    "f=x//y\n",
    "print(\"x //= y:\",\"x\",\"=\",f,\"and\",\"y\",\"=\",y)\n",
    "g=x%y\n",
    "print(\"x %= y:\",\"x\",\"=\",g,\"and\",\"y\",\"=\",y)\n",
    "print(\"x = y:\",\"x\",\"=\",y,\"and\",\"y\",\"=\",y)"
   ]
  },
  {
   "cell_type": "code",
   "execution_count": null,
   "id": "951ced55",
   "metadata": {},
   "outputs": [],
   "source": [
    "\"\"\" Question - 2 \"\"\"\n",
    "# Assignment Operators =, +=, -=, *=\n",
    "x=int(input(\"x: \"))\n",
    "y=int(input(\"y: \"))\n",
    "a=y\n",
    "print(\"x = y:\",a)\n",
    "b=x+y\n",
    "print(\"x += y:\",b)\n",
    "c=x-y\n",
    "print(\"x -= y:\",c)\n",
    "d=x*y\n",
    "print(\"x *= y:\",d)"
   ]
  },
  {
   "cell_type": "code",
   "execution_count": null,
   "id": "67e330f2",
   "metadata": {},
   "outputs": [],
   "source": [
    "\"\"\" Question - 3 \"\"\"\n",
    "# Assignment Operators  /= , %=, **=, //=\n",
    "x = int(input(\"x: \"))\n",
    "y = int(input(\"y: \"))\n",
    "a=x/y\n",
    "print('x /= y:' , a)\n",
    "b=x%y\n",
    "print ('x %= y:' , b)\n",
    "c=x**y\n",
    "print ('x **= y:' , c)\n",
    "d=x//y\n",
    "print ('x //= y:' , d)"
   ]
  },
  {
   "cell_type": "code",
   "execution_count": null,
   "id": "c281ab5a",
   "metadata": {},
   "outputs": [],
   "source": [
    "\"\"\" Bitwise Operators \"\"\"\n",
    "\"\"\" Question - 1 \"\"\"\n",
    "\"\"\" option 1 \n",
    "    In (NOT) ~ Bits that are 0 become 1, and those that are 1 become 0.\n",
    "\"\"\""
   ]
  },
  {
   "cell_type": "code",
   "execution_count": null,
   "id": "ee78dfd0",
   "metadata": {},
   "outputs": [],
   "source": [
    "\"\"\" Question - 2 \"\"\"\n",
    "#Program to illustrate bit wise operators >>, <<\n",
    "x=int(input(\"x: \"))\n",
    "y=int(input(\"y: \"))\n",
    "print(x,\">>\",y,\"is\",x>>y)\n",
    "print(x,\"<<\",y,\"is\",x<<y)\n"
   ]
  },
  {
   "cell_type": "code",
   "execution_count": null,
   "id": "85669939",
   "metadata": {},
   "outputs": [],
   "source": [
    "\"\"\" Question - 3 \"\"\"\n",
    "#Pr\n",
    "x=int(input(\"x: \"))\n",
    "y=int(input(\"y: \"))\n",
    "a=x&y\n",
    "b=x|y\n",
    "print(\"{} & {}: {}\".format(x,y,a))\n",
    "print(\"{} | {}: {}\".format(x,y,b))\n"
   ]
  },
  {
   "cell_type": "code",
   "execution_count": null,
   "id": "869101d2",
   "metadata": {},
   "outputs": [],
   "source": [
    "\"\"\" Question - 4 \"\"\"\n",
    "\"\"\"\n",
    "option 1 - One's complement converts 0's into 1's and 1's into 0's.\n",
    "option 4 - One's complement of the short int value 2 is 11111101.\n",
    "\"\"\""
   ]
  },
  {
   "cell_type": "code",
   "execution_count": null,
   "id": "e3b78fff",
   "metadata": {},
   "outputs": [],
   "source": [
    "\"\"\" Question - 5 \"\"\"\n",
    "#Program to illustrate bitwise operators ~, ^\n",
    "x=int(input(\"x: \"))\n",
    "y=int(input(\"y: \"))\n",
    "a=~x\n",
    "b=x^y\n",
    "print(\"~ {}: {}\".format(x,a))\n",
    "print(\"{} ^ {}: {}\".format(x,y,b))"
   ]
  },
  {
   "cell_type": "code",
   "execution_count": null,
   "id": "26ab74ff",
   "metadata": {},
   "outputs": [],
   "source": [
    "\"\"\" Question - 6 \"\"\"\n",
    "x=int(input(\"x: \"))\n",
    "y=int(input(\"y: \"))\n",
    "print(x,\">>\",y,\"is\",x>>y)\n",
    "print(x,\"<<\",y,\"is\",x<<y)\n",
    "print(x,\"&\",y,\"is\",x&y)\n",
    "print(x,\"|\",y,\"is\",x|y)\n",
    "print(\"~\",x,\"is\",~x)\n",
    "print(x,\"^\",y,\"is\",x^y)"
   ]
  },
  {
   "cell_type": "code",
   "execution_count": null,
   "id": "1517280c",
   "metadata": {},
   "outputs": [],
   "source": [
    "\"\"\" Question - 7 \"\"\"\n",
    "num1=int(input(\"num1: \"))\n",
    "num2=int(input(\"num2: \"))\n",
    "print(\"difference:\",num1-num2)"
   ]
  }
 ],
 "metadata": {
  "kernelspec": {
   "display_name": "Python 3 (ipykernel)",
   "language": "python",
   "name": "python3"
  },
  "language_info": {
   "codemirror_mode": {
    "name": "ipython",
    "version": 3
   },
   "file_extension": ".py",
   "mimetype": "text/x-python",
   "name": "python",
   "nbconvert_exporter": "python",
   "pygments_lexer": "ipython3",
   "version": "3.11.1"
  }
 },
 "nbformat": 4,
 "nbformat_minor": 5
}
