{
 "cells": [
  {
   "cell_type": "code",
   "execution_count": null,
   "id": "c89b77c5",
   "metadata": {},
   "outputs": [],
   "source": [
    "\"\"\" Variables and Assignment  \"\"\"\n",
    "\"\"\" Q1 \"\"\"\n",
    "#in the below line, initialize a variable called length with value 18\n",
    "\n",
    "\n",
    "#in the below line, initialize a variable called snake with text \"King Cobra\"\n",
    "\n",
    "\n",
    "#Make no changes to the below line\n",
    "snake =\"King Cobra\"\n",
    "length=\"18\"\n",
    "print(snake, \"can grow up to a length of\", length, \"feet\")"
   ]
  },
  {
   "cell_type": "code",
   "execution_count": null,
   "id": "f0bc0849",
   "metadata": {},
   "outputs": [],
   "source": [
    "\"\"\" Q2 \"\"\"\n",
    "value1 = value2 = value3 = \"Hello\"\n",
    "print(value1)\n",
    "print(value2)\n",
    "print(value3)\n",
    "# Assign values to variables and print again\n",
    "print(\"99\")\n",
    "print(\"Hello Python\")\n",
    "print(\"Hello World\")"
   ]
  },
  {
   "cell_type": "code",
   "execution_count": null,
   "id": "c93811fe",
   "metadata": {},
   "outputs": [],
   "source": [
    "\"\"\" Q3 \"\"\"\n",
    "kilometers = int(input(\"Enter a value: \")) # assign the correct value\n",
    "convertfactor = 0.621371 # assign the correct value\n",
    "miles =  (kilometers) * (convertfactor)# multiply kilometers and convertfactor\n",
    "print(\"Miles:\",miles )\n"
   ]
  },
  {
   "cell_type": "code",
   "execution_count": null,
   "id": "b18af853",
   "metadata": {},
   "outputs": [],
   "source": [
    "\"\"\" Q4 \"\"\"\n",
    "a=\"999\"\n",
    "print(a)\n",
    "b=\"24.789\"\n",
    "print(b)\n",
    "c=\"Python Interpreter\"\n",
    "print(c)"
   ]
  },
  {
   "cell_type": "code",
   "execution_count": null,
   "id": "a76be0bb",
   "metadata": {},
   "outputs": [],
   "source": [
    "\"\"\" Q5 \"\"\"\n",
    "str = input(\"Enter a value: \")\n",
    "# Assign str to three objects a, b and c\n",
    "# Print a\n",
    "# Print b\n",
    "# Print c\n",
    "a=b=c=str\n",
    "print(\"Value of a:\",a)\n",
    "print(\"Value of b:\",b)\n",
    "print(\"Value of c:\",c)"
   ]
  }
 ],
 "metadata": {
  "kernelspec": {
   "display_name": "Python 3 (ipykernel)",
   "language": "python",
   "name": "python3"
  },
  "language_info": {
   "codemirror_mode": {
    "name": "ipython",
    "version": 3
   },
   "file_extension": ".py",
   "mimetype": "text/x-python",
   "name": "python",
   "nbconvert_exporter": "python",
   "pygments_lexer": "ipython3",
   "version": "3.10.7"
  }
 },
 "nbformat": 4,
 "nbformat_minor": 5
}
