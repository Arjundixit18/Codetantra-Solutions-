{
 "cells": [
  {
   "cell_type": "code",
   "execution_count": null,
   "id": "772bd967",
   "metadata": {},
   "outputs": [],
   "source": [
    "\"\"\" Lists \"\"\"\n",
    "list1 = [1.0, 2.3, \"hello\"]\n",
    "list2 = [\"hi\", 8.3, 9.6, \"how\"]\n",
    "print(\"List1 Elements are:\",list1)\n",
    "print(\"List2 Elements are:\",list2)\n",
    "print(\"List after Concatenation:\",list1+list2)\n",
    "#print the list1 and list2\n",
    "\n",
    "#Concatenate list1 and list2 and print the result\n",
    "\n"
   ]
  },
  {
   "cell_type": "code",
   "execution_count": null,
   "id": "13c49051",
   "metadata": {},
   "outputs": [],
   "source": [
    "\"\"\" Sets \"\"\"\n",
    "\"\"\" Option 3\n",
    "A set is represented using curly braces { } .\n",
    "\"\"\""
   ]
  },
  {
   "cell_type": "code",
   "execution_count": null,
   "id": "5b5a29e9",
   "metadata": {},
   "outputs": [],
   "source": [
    "\"\"\" Tuples \"\"\"\n",
    "\"\"\"\n",
    "Option 3 tuples are immutable .\n",
    "\n",
    "Option 4 Converting a tuple into a list and list into tuple is possible .\n",
    "\n",
    "\"\"\""
   ]
  }
 ],
 "metadata": {
  "kernelspec": {
   "display_name": "Python 3 (ipykernel)",
   "language": "python",
   "name": "python3"
  },
  "language_info": {
   "codemirror_mode": {
    "name": "ipython",
    "version": 3
   },
   "file_extension": ".py",
   "mimetype": "text/x-python",
   "name": "python",
   "nbconvert_exporter": "python",
   "pygments_lexer": "ipython3",
   "version": "3.11.1"
  }
 },
 "nbformat": 4,
 "nbformat_minor": 5
}
