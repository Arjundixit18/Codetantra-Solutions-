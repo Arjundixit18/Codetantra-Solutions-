{
 "cells": [
  {
   "cell_type": "code",
   "execution_count": null,
   "id": "b6803a71",
   "metadata": {},
   "outputs": [],
   "source": [
    "\"\"\" Different Data types \"\"\"\n",
    "\"\"\"\n",
    "option 1\n",
    "option 4\n",
    "\"\"\""
   ]
  },
  {
   "cell_type": "code",
   "execution_count": null,
   "id": "6083274f",
   "metadata": {},
   "outputs": [],
   "source": [
    "\"\"\" Numbers \"\"\"\n",
    "\n",
    "a = 365\n",
    "#Print type of a\n",
    "print(type(a))\n",
    "a = 345.65\n",
    "#Print type of a\n",
    "print(type(a))\n",
    "\n",
    "\n",
    "a = 45 + 5j\n",
    "#Print type of a\n",
    "print(type(a))\n"
   ]
  }
 ],
 "metadata": {
  "kernelspec": {
   "display_name": "Python 3 (ipykernel)",
   "language": "python",
   "name": "python3"
  },
  "language_info": {
   "codemirror_mode": {
    "name": "ipython",
    "version": 3
   },
   "file_extension": ".py",
   "mimetype": "text/x-python",
   "name": "python",
   "nbconvert_exporter": "python",
   "pygments_lexer": "ipython3",
   "version": "3.11.1"
  }
 },
 "nbformat": 4,
 "nbformat_minor": 5
}
